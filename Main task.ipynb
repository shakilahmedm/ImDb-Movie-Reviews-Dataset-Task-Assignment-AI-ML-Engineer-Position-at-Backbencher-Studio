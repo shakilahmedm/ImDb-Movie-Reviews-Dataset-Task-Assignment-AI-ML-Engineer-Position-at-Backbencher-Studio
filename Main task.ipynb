{
  "cells": [
    {
      "cell_type": "markdown",
      "metadata": {
        "id": "a463Ae0ZhZCx"
      },
      "source": [
        "Step 1 – Data Preparation<p>\n",
        "Load the dataset in Python (Pandas or equivalent). <p>\n",
        "Clean the text:<p>\n",
        "Remove HTML tags, punctuation, and numbers<p>\n",
        "Convert to lowercase<p>\n",
        "Remove stopwords (NLTK or SpaCy)<p>\n",
        "Split into train (80%) and test (20%) sets."
      ]
    },
    {
      "cell_type": "code",
      "execution_count": 1,
      "metadata": {
        "colab": {
          "base_uri": "https://localhost:8080/",
          "height": 73
        },
        "id": "ZYETCImIW2qJ",
        "outputId": "43e91890-3374-4034-9f13-0bb089e5f2d8"
      },
      "outputs": [
        {
          "data": {
            "text/html": [
              "\n",
              "     <input type=\"file\" id=\"files-5955bc5b-c73a-4f07-bef3-6a2f7a6830ca\" name=\"files[]\" multiple disabled\n",
              "        style=\"border:none\" />\n",
              "     <output id=\"result-5955bc5b-c73a-4f07-bef3-6a2f7a6830ca\">\n",
              "      Upload widget is only available when the cell has been executed in the\n",
              "      current browser session. Please rerun this cell to enable.\n",
              "      </output>\n",
              "      <script>// Copyright 2017 Google LLC\n",
              "//\n",
              "// Licensed under the Apache License, Version 2.0 (the \"License\");\n",
              "// you may not use this file except in compliance with the License.\n",
              "// You may obtain a copy of the License at\n",
              "//\n",
              "//      http://www.apache.org/licenses/LICENSE-2.0\n",
              "//\n",
              "// Unless required by applicable law or agreed to in writing, software\n",
              "// distributed under the License is distributed on an \"AS IS\" BASIS,\n",
              "// WITHOUT WARRANTIES OR CONDITIONS OF ANY KIND, either express or implied.\n",
              "// See the License for the specific language governing permissions and\n",
              "// limitations under the License.\n",
              "\n",
              "/**\n",
              " * @fileoverview Helpers for google.colab Python module.\n",
              " */\n",
              "(function(scope) {\n",
              "function span(text, styleAttributes = {}) {\n",
              "  const element = document.createElement('span');\n",
              "  element.textContent = text;\n",
              "  for (const key of Object.keys(styleAttributes)) {\n",
              "    element.style[key] = styleAttributes[key];\n",
              "  }\n",
              "  return element;\n",
              "}\n",
              "\n",
              "// Max number of bytes which will be uploaded at a time.\n",
              "const MAX_PAYLOAD_SIZE = 100 * 1024;\n",
              "\n",
              "function _uploadFiles(inputId, outputId) {\n",
              "  const steps = uploadFilesStep(inputId, outputId);\n",
              "  const outputElement = document.getElementById(outputId);\n",
              "  // Cache steps on the outputElement to make it available for the next call\n",
              "  // to uploadFilesContinue from Python.\n",
              "  outputElement.steps = steps;\n",
              "\n",
              "  return _uploadFilesContinue(outputId);\n",
              "}\n",
              "\n",
              "// This is roughly an async generator (not supported in the browser yet),\n",
              "// where there are multiple asynchronous steps and the Python side is going\n",
              "// to poll for completion of each step.\n",
              "// This uses a Promise to block the python side on completion of each step,\n",
              "// then passes the result of the previous step as the input to the next step.\n",
              "function _uploadFilesContinue(outputId) {\n",
              "  const outputElement = document.getElementById(outputId);\n",
              "  const steps = outputElement.steps;\n",
              "\n",
              "  const next = steps.next(outputElement.lastPromiseValue);\n",
              "  return Promise.resolve(next.value.promise).then((value) => {\n",
              "    // Cache the last promise value to make it available to the next\n",
              "    // step of the generator.\n",
              "    outputElement.lastPromiseValue = value;\n",
              "    return next.value.response;\n",
              "  });\n",
              "}\n",
              "\n",
              "/**\n",
              " * Generator function which is called between each async step of the upload\n",
              " * process.\n",
              " * @param {string} inputId Element ID of the input file picker element.\n",
              " * @param {string} outputId Element ID of the output display.\n",
              " * @return {!Iterable<!Object>} Iterable of next steps.\n",
              " */\n",
              "function* uploadFilesStep(inputId, outputId) {\n",
              "  const inputElement = document.getElementById(inputId);\n",
              "  inputElement.disabled = false;\n",
              "\n",
              "  const outputElement = document.getElementById(outputId);\n",
              "  outputElement.innerHTML = '';\n",
              "\n",
              "  const pickedPromise = new Promise((resolve) => {\n",
              "    inputElement.addEventListener('change', (e) => {\n",
              "      resolve(e.target.files);\n",
              "    });\n",
              "  });\n",
              "\n",
              "  const cancel = document.createElement('button');\n",
              "  inputElement.parentElement.appendChild(cancel);\n",
              "  cancel.textContent = 'Cancel upload';\n",
              "  const cancelPromise = new Promise((resolve) => {\n",
              "    cancel.onclick = () => {\n",
              "      resolve(null);\n",
              "    };\n",
              "  });\n",
              "\n",
              "  // Wait for the user to pick the files.\n",
              "  const files = yield {\n",
              "    promise: Promise.race([pickedPromise, cancelPromise]),\n",
              "    response: {\n",
              "      action: 'starting',\n",
              "    }\n",
              "  };\n",
              "\n",
              "  cancel.remove();\n",
              "\n",
              "  // Disable the input element since further picks are not allowed.\n",
              "  inputElement.disabled = true;\n",
              "\n",
              "  if (!files) {\n",
              "    return {\n",
              "      response: {\n",
              "        action: 'complete',\n",
              "      }\n",
              "    };\n",
              "  }\n",
              "\n",
              "  for (const file of files) {\n",
              "    const li = document.createElement('li');\n",
              "    li.append(span(file.name, {fontWeight: 'bold'}));\n",
              "    li.append(span(\n",
              "        `(${file.type || 'n/a'}) - ${file.size} bytes, ` +\n",
              "        `last modified: ${\n",
              "            file.lastModifiedDate ? file.lastModifiedDate.toLocaleDateString() :\n",
              "                                    'n/a'} - `));\n",
              "    const percent = span('0% done');\n",
              "    li.appendChild(percent);\n",
              "\n",
              "    outputElement.appendChild(li);\n",
              "\n",
              "    const fileDataPromise = new Promise((resolve) => {\n",
              "      const reader = new FileReader();\n",
              "      reader.onload = (e) => {\n",
              "        resolve(e.target.result);\n",
              "      };\n",
              "      reader.readAsArrayBuffer(file);\n",
              "    });\n",
              "    // Wait for the data to be ready.\n",
              "    let fileData = yield {\n",
              "      promise: fileDataPromise,\n",
              "      response: {\n",
              "        action: 'continue',\n",
              "      }\n",
              "    };\n",
              "\n",
              "    // Use a chunked sending to avoid message size limits. See b/62115660.\n",
              "    let position = 0;\n",
              "    do {\n",
              "      const length = Math.min(fileData.byteLength - position, MAX_PAYLOAD_SIZE);\n",
              "      const chunk = new Uint8Array(fileData, position, length);\n",
              "      position += length;\n",
              "\n",
              "      const base64 = btoa(String.fromCharCode.apply(null, chunk));\n",
              "      yield {\n",
              "        response: {\n",
              "          action: 'append',\n",
              "          file: file.name,\n",
              "          data: base64,\n",
              "        },\n",
              "      };\n",
              "\n",
              "      let percentDone = fileData.byteLength === 0 ?\n",
              "          100 :\n",
              "          Math.round((position / fileData.byteLength) * 100);\n",
              "      percent.textContent = `${percentDone}% done`;\n",
              "\n",
              "    } while (position < fileData.byteLength);\n",
              "  }\n",
              "\n",
              "  // All done.\n",
              "  yield {\n",
              "    response: {\n",
              "      action: 'complete',\n",
              "    }\n",
              "  };\n",
              "}\n",
              "\n",
              "scope.google = scope.google || {};\n",
              "scope.google.colab = scope.google.colab || {};\n",
              "scope.google.colab._files = {\n",
              "  _uploadFiles,\n",
              "  _uploadFilesContinue,\n",
              "};\n",
              "})(self);\n",
              "</script> "
            ],
            "text/plain": [
              "<IPython.core.display.HTML object>"
            ]
          },
          "metadata": {},
          "output_type": "display_data"
        },
        {
          "name": "stdout",
          "output_type": "stream",
          "text": [
            "Saving used as train_data (1).csv to used as train_data (1).csv\n"
          ]
        }
      ],
      "source": [
        "# Upload dataset\n",
        "from google.colab import files\n",
        "uploaded = files.upload()"
      ]
    },
    {
      "cell_type": "markdown",
      "metadata": {
        "id": "ijFEvAI7qyVD"
      },
      "source": [
        "Start : Step 1 – Data Preparation\n",
        "\n"
      ]
    },
    {
      "cell_type": "code",
      "execution_count": 2,
      "metadata": {
        "colab": {
          "base_uri": "https://localhost:8080/"
        },
        "id": "d6glfUEvT4zt",
        "outputId": "45c48fbd-de55-4189-f888-c516ddc41aa1"
      },
      "outputs": [
        {
          "name": "stdout",
          "output_type": "stream",
          "text": [
            "Requirement already satisfied: pandas in /usr/local/lib/python3.11/dist-packages (2.2.2)\n",
            "Requirement already satisfied: numpy in /usr/local/lib/python3.11/dist-packages (2.0.2)\n",
            "Requirement already satisfied: scikit-learn in /usr/local/lib/python3.11/dist-packages (1.6.1)\n",
            "Requirement already satisfied: nltk in /usr/local/lib/python3.11/dist-packages (3.9.1)\n",
            "Requirement already satisfied: python-dateutil>=2.8.2 in /usr/local/lib/python3.11/dist-packages (from pandas) (2.9.0.post0)\n",
            "Requirement already satisfied: pytz>=2020.1 in /usr/local/lib/python3.11/dist-packages (from pandas) (2025.2)\n",
            "Requirement already satisfied: tzdata>=2022.7 in /usr/local/lib/python3.11/dist-packages (from pandas) (2025.2)\n",
            "Requirement already satisfied: scipy>=1.6.0 in /usr/local/lib/python3.11/dist-packages (from scikit-learn) (1.16.1)\n",
            "Requirement already satisfied: joblib>=1.2.0 in /usr/local/lib/python3.11/dist-packages (from scikit-learn) (1.5.1)\n",
            "Requirement already satisfied: threadpoolctl>=3.1.0 in /usr/local/lib/python3.11/dist-packages (from scikit-learn) (3.6.0)\n",
            "Requirement already satisfied: click in /usr/local/lib/python3.11/dist-packages (from nltk) (8.2.1)\n",
            "Requirement already satisfied: regex>=2021.8.3 in /usr/local/lib/python3.11/dist-packages (from nltk) (2024.11.6)\n",
            "Requirement already satisfied: tqdm in /usr/local/lib/python3.11/dist-packages (from nltk) (4.67.1)\n",
            "Requirement already satisfied: six>=1.5 in /usr/local/lib/python3.11/dist-packages (from python-dateutil>=2.8.2->pandas) (1.17.0)\n"
          ]
        },
        {
          "name": "stderr",
          "output_type": "stream",
          "text": [
            "[nltk_data] Downloading package stopwords to /root/nltk_data...\n",
            "[nltk_data]   Unzipping corpora/stopwords.zip.\n"
          ]
        },
        {
          "data": {
            "text/plain": [
              "True"
            ]
          },
          "execution_count": 2,
          "metadata": {},
          "output_type": "execute_result"
        }
      ],
      "source": [
        "\n",
        "\n",
        "# Install required libraries\n",
        "!pip install pandas numpy scikit-learn nltk\n",
        "\n",
        "# Import libraries\n",
        "import pandas as pd\n",
        "import numpy as np\n",
        "import re\n",
        "import string\n",
        "import nltk\n",
        "from nltk.corpus import stopwords\n",
        "from sklearn.model_selection import train_test_split\n",
        "from google.colab import files\n",
        "\n",
        "# Download stopwords\n",
        "nltk.download('stopwords')\n",
        "\n"
      ]
    },
    {
      "cell_type": "code",
      "execution_count": 3,
      "metadata": {
        "colab": {
          "base_uri": "https://localhost:8080/"
        },
        "id": "5nOFzJmrfAFw",
        "outputId": "d49c07e1-072e-468e-bf74-9504ea175ecb"
      },
      "outputs": [
        {
          "name": "stdout",
          "output_type": "stream",
          "text": [
            "Missing values in the dataset:\n",
            "0    0\n",
            "1    0\n",
            "dtype: int64\n"
          ]
        }
      ],
      "source": [
        "\n",
        "# Load the dataset in Python (Pandas )\n",
        "df = pd.read_csv(\"used as train_data (1).csv\")\n",
        "\n",
        "print(\"Missing values in the dataset:\")\n",
        "\n",
        "# Check for missing values\n",
        "print(df.isnull().sum())"
      ]
    },
    {
      "cell_type": "code",
      "execution_count": 4,
      "metadata": {
        "id": "YAz4wjq3YMYX"
      },
      "outputs": [],
      "source": [
        " # Rename columns\n",
        "df.columns = ['Reviews', 'Sentiments']\n"
      ]
    },
    {
      "cell_type": "code",
      "execution_count": 5,
      "metadata": {
        "id": "P6I5gZQfYOm6"
      },
      "outputs": [],
      "source": [
        "# text cleaning function\n",
        "def clean_text(text):\n",
        "    # Remove HTML tags\n",
        "    text = re.sub(r'<.*?>', '', str(text))\n",
        "    # Remove punctuation\n",
        "    text = text.translate(str.maketrans('', '', string.punctuation))\n",
        "    # Remove numbers\n",
        "    text = re.sub(r'\\d+', '', text)\n",
        "    # Convert to lowercase\n",
        "    text = text.lower()\n",
        "    # Remove stopwords\n",
        "    stop_words = set(stopwords.words('english'))\n",
        "    words = text.split()\n",
        "    words = [word for word in words if word not in stop_words]\n",
        "    return \" \".join(words)\n",
        "\n"
      ]
    },
    {
      "cell_type": "code",
      "execution_count": 6,
      "metadata": {
        "colab": {
          "base_uri": "https://localhost:8080/"
        },
        "id": "ktyM-rHqYUPp",
        "outputId": "8ea243a8-4331-4ba9-f361-0a6ced8870fe"
      },
      "outputs": [
        {
          "name": "stdout",
          "output_type": "stream",
          "text": [
            "Training size: (20000,)\n",
            "Testing size: (5000,)\n",
            " Cleaned, renamed dataset and processed dataset saved as 'used as train_data (1)_Cleaned.csv'\n"
          ]
        }
      ],
      "source": [
        "# Apply cleaning to 'Reviews' column\n",
        "df['Reviews'] = df['Reviews'].apply(clean_text)\n",
        "\n",
        "# Split into train (80%) and test (20%)\n",
        "X_train, X_test, y_train, y_test = train_test_split(df['Reviews'], df['Sentiments'], test_size=0.2,random_state=42)\n",
        "\n",
        "print(\"Training size:\", X_train.shape)\n",
        "print(\"Testing size:\", X_test.shape)\n",
        "\n",
        "# Save cleaned and rename dataset as a new CSV file\n",
        "df.to_csv(\"used as train_data (1)_Cleaned.csv\", index=False)\n",
        "print(\" Cleaned, renamed dataset and processed dataset saved as 'used as train_data (1)_Cleaned.csv'\")\n",
        "\n",
        "#  if you want to see new cleaned csv then run this line code(just removw the hash (#)). It will Download new cleaned CSV\n",
        "#files.download(\"used as train_data (1)_Cleaned.csv\")\n"
      ]
    },
    {
      "cell_type": "markdown",
      "metadata": {
        "id": "NYkwsHGmq21S"
      },
      "source": [
        "End: Step 1 – Data Preparation<p>\n",
        "........................................................................"
      ]
    },
    {
      "cell_type": "markdown",
      "metadata": {
        "id": "YparZeAFh36P"
      },
      "source": [
        "Step 2 – Model Training<p>\n",
        "\n",
        "Use Logistic Regression, Naive Bayes, or any ML model for classification.<p>\n",
        "Convert text to features using TF-IDF or Word Embeddings.<p>\n",
        "Train and evaluate the model on the test set.<p>\n",
        ".............................................................................."
      ]
    },
    {
      "cell_type": "markdown",
      "metadata": {
        "id": "VtuPksH2q6eG"
      },
      "source": [
        "Start : Step 2 – Model Training"
      ]
    },
    {
      "cell_type": "code",
      "execution_count": 7,
      "metadata": {
        "id": "74Gc5u9jhtC_"
      },
      "outputs": [],
      "source": [
        "# required libraries\n",
        "import pandas as pd\n",
        "from sklearn.feature_extraction.text import TfidfVectorizer\n",
        "from sklearn.model_selection import train_test_split\n",
        "from sklearn.linear_model import LogisticRegression\n",
        "from sklearn.naive_bayes import MultinomialNB\n",
        "from sklearn.tree import DecisionTreeClassifier\n",
        "from sklearn.ensemble import RandomForestClassifier, GradientBoostingClassifier\n",
        "from sklearn.svm import SVC\n",
        "from sklearn.metrics import accuracy_score, classification_report"
      ]
    },
    {
      "cell_type": "code",
      "execution_count": 8,
      "metadata": {
        "id": "Ee9CrwHchi8k"
      },
      "outputs": [],
      "source": [
        "# this was used for fine tunning (not required)\n",
        "# TF-IDF Vectorization\n",
        "#vectorizer = TfidfVectorizer(max_features=5000)\n",
        "#X_train_tfidf = vectorizer.fit_transform(X_train)\n",
        "#X_test_tfidf = vectorizer.transform(X_test)\n",
        "\n"
      ]
    },
    {
      "cell_type": "code",
      "execution_count": 9,
      "metadata": {
        "id": "9a0tIKkosdq4"
      },
      "outputs": [],
      "source": [
        "\n",
        "\n",
        "#  TF-IDF with n-grams\n",
        "vectorizer = TfidfVectorizer(max_features=60000, ngram_range=(1,2), stop_words='english')\n",
        "X_train_tfidf = vectorizer.fit_transform(X_train)\n",
        "X_test_tfidf = vectorizer.transform(X_test)\n",
        "\n",
        "\n",
        "\n",
        "\n",
        "# --- TF-IDF Vectorization ---\n",
        "# We use TfidfVectorizer to convert text into numerical features.\n",
        "# Parameters:\n",
        "#   max_features=60000  -> Use only the top 60,000 most important words/phrases from the dataset.\n",
        "#   ngram_range=(1,2)    -> Include both unigrams (single words) and bigrams (two-word combinations) as features.\n",
        "#   stop_words='english' -> Remove common English stop words (e.g., \"the\", \"is\", \"and\") to reduce noise.\n",
        "\n",
        "# The vectorizer learns the vocabulary and computes the TF-IDF weights for each word/ngram from the training data.\n",
        "# - TF (Term Frequency): How often a term appears in a document.\n",
        "# - IDF (Inverse Document Frequency): Gives higher weight to rare words and lower weight to frequent words.\n",
        "# - TF-IDF score: TF × IDF (a measure of word importance in a document relative to the dataset).\n",
        "#\n",
        "# fit_transform(X_train):\n",
        "#   - \"fit\" learns the vocabulary and IDF weights from the training data.\n",
        "#   - \"transform\" converts the text into a sparse matrix of TF-IDF features.\n",
        "\n",
        "# transform(X_test):\n",
        "#   - Uses the already learned vocabulary/weights from training data to transform the test set (no fitting again).\n",
        "\n"
      ]
    },
    {
      "cell_type": "code",
      "execution_count": 10,
      "metadata": {
        "id": "-WnfZyerhzWY"
      },
      "outputs": [],
      "source": [
        "\n",
        "# Classification Models\n",
        "classification_models = {\n",
        "    'Logistic Regression': LogisticRegression(max_iter=2500),\n",
        "    'Naive Bayes': MultinomialNB(),\n",
        "    'Decision Tree': DecisionTreeClassifier(),\n",
        "    'Random Forest': RandomForestClassifier(),\n",
        "    'SVM': SVC(),\n",
        "    'Gradient Boosting': GradientBoostingClassifier()\n",
        "}\n",
        "\n",
        "\n",
        "# Dictionary containing different classification models we want to test\n",
        "\n",
        "# Logistic Regression: A linear model often used for binary classification.[max_iter=2500 increases the number of iterations to ensure convergence.].\n",
        "# Naive Bayes: A probabilistic classifier based on Bayes' theorem.\n",
        "# MultinomialNB is especially suitable for text classification with word counts or TF-IDF features.\n",
        "# Decision Tree: A non-linear model that splits data based on feature values to make decisions.\n",
        "# Random Forest: An ensemble method that builds multiple decision trees and averages their predictions for better accuracy.\n",
        "# Support Vector Machine (SVM): A model that finds the best hyperplane to separate classes in high-dimensional space.\n",
        "# Gradient Boosting: An ensemble model that builds trees sequentially, where each tree corrects errors from the previous one."
      ]
    },
    {
      "cell_type": "code",
      "execution_count": 11,
      "metadata": {
        "id": "LVL6C3RDstPi"
      },
      "outputs": [],
      "source": [
        "#  Hyperparameter grids for GridSearchCV\n",
        "\n",
        "param_grids = {\n",
        "    'Logistic Regression': {'C': [0.01, 0.1, 0.5, 1], 'penalty': ['l2'], 'solver': ['lbfgs']},\n",
        "    'Naive Bayes': {'alpha': [0.5, 1.0, 1.5]},  # smoothing parameter\n",
        "    'Decision Tree': {'max_depth': [None, 10, 20, 30], 'min_samples_split': [2, 5, 10]},\n",
        "    'Random Forest': {'n_estimators': [50, 100, 200], 'max_depth': [None, 10, 20], 'min_samples_split': [2, 5]},\n",
        "    'SVM': {'C': [0.01, 0.1, 0.5, 1], 'kernel': ['linear', 'rbf']},\n",
        "    'Gradient Boosting': {'n_estimators': [50, 100, 200], 'learning_rate': [0.01, 0.1, 0.2], 'max_depth': [3, 5, 7]}\n",
        "}\n",
        "\n",
        "# Dictionary containing parameter grids for hyperparameter tuning of each model.\n",
        "# These grids will be used in GridSearchCV to find the best model settings.\n",
        "\n",
        "    # Logistic Regression:\n",
        "    # 'C' controls the regularization strength (smaller values = stronger regularization).\n",
        "    # 'penalty' specifies the type of regularization (L2 is common for numeric stability).\n",
        "    # 'solver' is the optimization algorithm (lbfgs works well for small to medium datasets).\n",
        "\n",
        "    # Naive Bayes:\n",
        "    # 'alpha' is the smoothing parameter to handle zero probabilities in the data.\n",
        "\n",
        "    # Decision Tree:\n",
        "    # 'max_depth' limits how deep the tree can grow (None means unlimited depth).\n",
        "    # 'min_samples_split' is the minimum number of samples required to split a node.\n",
        "\n",
        "    # Random Forest:\n",
        "    # 'n_estimators' is the number of decision trees in the forest.\n",
        "    # 'max_depth' is the maximum depth of each tree (None means unlimited).\n",
        "    # 'min_samples_split' sets the minimum number of samples to split an internal node.\n",
        "\n",
        "    # Support Vector Machine (SVM):\n",
        "    # 'C' controls the margin hardness (smaller C = wider margin, more regularization).\n",
        "    # 'kernel' defines the function for projecting data into higher dimensions ('linear' or 'rbf').\n",
        "\n",
        "    # Gradient Boosting:\n",
        "    # 'n_estimators' is the number of boosting stages (trees) to run.\n",
        "    # 'learning_rate' controls how much each tree contributes to the final prediction.\n",
        "    # 'max_depth' limits the depth of each individual tree.\n",
        "\n"
      ]
    },
    {
      "cell_type": "markdown",
      "metadata": {
        "id": "_UJiFzdzMnxW"
      },
      "source": [
        "Training Accuracy for Logistic Regression: 0.8866, Training Accuracy for Naive Bayes: 0.8626, Training Accuracy for SVM: 0.8884.\n",
        "so i will try to optimize this because this three  give me most prominent result. And I am not deleting others cause if any chance they will improve but i need more time to process all ."
      ]
    },
    {
      "cell_type": "code",
      "execution_count": 12,
      "metadata": {
        "colab": {
          "base_uri": "https://localhost:8080/"
        },
        "id": "dPkbJAbdtZY8",
        "outputId": "67c7d790-439f-4df4-ff70-0a0aaa7632e7"
      },
      "outputs": [
        {
          "name": "stdout",
          "output_type": "stream",
          "text": [
            "\n",
            "Training Logistic Regression...\n",
            "Train Accuracy for Logistic Regression: 0.9427\n",
            "Test Accuracy for Logistic Regression: 0.8904\n",
            "Train Classification Report:\n",
            "              precision    recall  f1-score   support\n",
            "\n",
            "           0       0.95      0.94      0.94      9971\n",
            "           1       0.94      0.95      0.94     10029\n",
            "\n",
            "    accuracy                           0.94     20000\n",
            "   macro avg       0.94      0.94      0.94     20000\n",
            "weighted avg       0.94      0.94      0.94     20000\n",
            "\n",
            "Test Classification Report:\n",
            "              precision    recall  f1-score   support\n",
            "\n",
            "           0       0.91      0.87      0.89      2529\n",
            "           1       0.87      0.91      0.89      2471\n",
            "\n",
            "    accuracy                           0.89      5000\n",
            "   macro avg       0.89      0.89      0.89      5000\n",
            "weighted avg       0.89      0.89      0.89      5000\n",
            "\n",
            "\n",
            "Training Naive Bayes...\n",
            "Train Accuracy for Naive Bayes: 0.9302\n",
            "Test Accuracy for Naive Bayes: 0.8784\n",
            "Train Classification Report:\n",
            "              precision    recall  f1-score   support\n",
            "\n",
            "           0       0.93      0.93      0.93      9971\n",
            "           1       0.93      0.93      0.93     10029\n",
            "\n",
            "    accuracy                           0.93     20000\n",
            "   macro avg       0.93      0.93      0.93     20000\n",
            "weighted avg       0.93      0.93      0.93     20000\n",
            "\n",
            "Test Classification Report:\n",
            "              precision    recall  f1-score   support\n",
            "\n",
            "           0       0.88      0.88      0.88      2529\n",
            "           1       0.88      0.88      0.88      2471\n",
            "\n",
            "    accuracy                           0.88      5000\n",
            "   macro avg       0.88      0.88      0.88      5000\n",
            "weighted avg       0.88      0.88      0.88      5000\n",
            "\n",
            "\n",
            "Training Decision Tree...\n",
            "Train Accuracy for Decision Tree: 1.0000\n",
            "Test Accuracy for Decision Tree: 0.7128\n",
            "Train Classification Report:\n",
            "              precision    recall  f1-score   support\n",
            "\n",
            "           0       1.00      1.00      1.00      9971\n",
            "           1       1.00      1.00      1.00     10029\n",
            "\n",
            "    accuracy                           1.00     20000\n",
            "   macro avg       1.00      1.00      1.00     20000\n",
            "weighted avg       1.00      1.00      1.00     20000\n",
            "\n",
            "Test Classification Report:\n",
            "              precision    recall  f1-score   support\n",
            "\n",
            "           0       0.71      0.72      0.72      2529\n",
            "           1       0.71      0.70      0.71      2471\n",
            "\n",
            "    accuracy                           0.71      5000\n",
            "   macro avg       0.71      0.71      0.71      5000\n",
            "weighted avg       0.71      0.71      0.71      5000\n",
            "\n",
            "\n",
            "Training Random Forest...\n",
            "Train Accuracy for Random Forest: 1.0000\n",
            "Test Accuracy for Random Forest: 0.8484\n",
            "Train Classification Report:\n",
            "              precision    recall  f1-score   support\n",
            "\n",
            "           0       1.00      1.00      1.00      9971\n",
            "           1       1.00      1.00      1.00     10029\n",
            "\n",
            "    accuracy                           1.00     20000\n",
            "   macro avg       1.00      1.00      1.00     20000\n",
            "weighted avg       1.00      1.00      1.00     20000\n",
            "\n",
            "Test Classification Report:\n",
            "              precision    recall  f1-score   support\n",
            "\n",
            "           0       0.85      0.85      0.85      2529\n",
            "           1       0.85      0.84      0.85      2471\n",
            "\n",
            "    accuracy                           0.85      5000\n",
            "   macro avg       0.85      0.85      0.85      5000\n",
            "weighted avg       0.85      0.85      0.85      5000\n",
            "\n",
            "\n",
            "Training SVM...\n",
            "Train Accuracy for SVM: 0.9956\n",
            "Test Accuracy for SVM: 0.8956\n",
            "Train Classification Report:\n",
            "              precision    recall  f1-score   support\n",
            "\n",
            "           0       0.99      1.00      1.00      9971\n",
            "           1       1.00      0.99      1.00     10029\n",
            "\n",
            "    accuracy                           1.00     20000\n",
            "   macro avg       1.00      1.00      1.00     20000\n",
            "weighted avg       1.00      1.00      1.00     20000\n",
            "\n",
            "Test Classification Report:\n",
            "              precision    recall  f1-score   support\n",
            "\n",
            "           0       0.91      0.88      0.89      2529\n",
            "           1       0.88      0.91      0.90      2471\n",
            "\n",
            "    accuracy                           0.90      5000\n",
            "   macro avg       0.90      0.90      0.90      5000\n",
            "weighted avg       0.90      0.90      0.90      5000\n",
            "\n",
            "\n",
            "Training Gradient Boosting...\n",
            "Train Accuracy for Gradient Boosting: 0.8206\n",
            "Test Accuracy for Gradient Boosting: 0.8062\n",
            "Train Classification Report:\n",
            "              precision    recall  f1-score   support\n",
            "\n",
            "           0       0.87      0.76      0.81      9971\n",
            "           1       0.79      0.88      0.83     10029\n",
            "\n",
            "    accuracy                           0.82     20000\n",
            "   macro avg       0.83      0.82      0.82     20000\n",
            "weighted avg       0.83      0.82      0.82     20000\n",
            "\n",
            "Test Classification Report:\n",
            "              precision    recall  f1-score   support\n",
            "\n",
            "           0       0.86      0.74      0.79      2529\n",
            "           1       0.77      0.87      0.82      2471\n",
            "\n",
            "    accuracy                           0.81      5000\n",
            "   macro avg       0.81      0.81      0.81      5000\n",
            "weighted avg       0.81      0.81      0.81      5000\n",
            "\n"
          ]
        }
      ],
      "source": [
        "# Dictionary to store evaluation results for each model\n",
        "model_reports = {}\n",
        "\n",
        "# Loop through all classification models\n",
        "for name, model in classification_models.items():\n",
        "    print(f\"\\nTraining {name}...\")\n",
        "\n",
        "    # Fit the model on training data\n",
        "    model.fit(X_train_tfidf, y_train)\n",
        "\n",
        "    # Predict on training set\n",
        "    y_pred_train = model.predict(X_train_tfidf)\n",
        "    train_acc = accuracy_score(y_train, y_pred_train)\n",
        "    train_report = classification_report(y_train, y_pred_train, output_dict=True)\n",
        "\n",
        "    # Predict on test set\n",
        "    y_pred_test = model.predict(X_test_tfidf)\n",
        "    test_acc = accuracy_score(y_test, y_pred_test)\n",
        "    test_report = classification_report(y_test, y_pred_test, output_dict=True)\n",
        "\n",
        "    # Store both train and test metrics\n",
        "    model_reports[name] = {\n",
        "        \"train_accuracy\": train_acc,\n",
        "        \"train_classification_report\": train_report,\n",
        "        \"train_predictions\": y_pred_train,\n",
        "        \"test_accuracy\": test_acc,\n",
        "        \"test_classification_report\": test_report,\n",
        "        \"test_predictions\": y_pred_test\n",
        "    }\n",
        "\n",
        "    # Print results\n",
        "    print(f\"Train Accuracy for {name}: {train_acc:.4f}\")\n",
        "    print(f\"Test Accuracy for {name}: {test_acc:.4f}\")\n",
        "    print(\"Train Classification Report:\")\n",
        "    print(classification_report(y_train, y_pred_train))\n",
        "    print(\"Test Classification Report:\")\n",
        "    print(classification_report(y_test, y_pred_test))\n"
      ]
    },
    {
      "cell_type": "markdown",
      "metadata": {
        "id": "Q9gE5YsoPOED"
      },
      "source": [
        "Start comparison - this is for comparison between all models,just see the best train and test result and algorithom result ( if do not want to see comparison then ignore it )"
      ]
    },
    {
      "cell_type": "code",
      "execution_count": 14,
      "metadata": {
        "colab": {
          "base_uri": "https://localhost:8080/",
          "height": 657
        },
        "id": "Oot2JRbMDW4x",
        "outputId": "04b7b6e8-a5d9-4557-9486-b6af0f51a53e"
      },
      "outputs": [
        {
          "name": "stderr",
          "output_type": "stream",
          "text": [
            "/tmp/ipython-input-1229696130.py:25: FutureWarning: \n",
            "\n",
            "Passing `palette` without assigning `hue` is deprecated and will be removed in v0.14.0. Assign the `y` variable to `hue` and set `legend=False` for the same effect.\n",
            "\n",
            "  sns.barplot(x='Accuracy', y='Model', data=df_plot, palette=palette, edgecolor='black')\n"
          ]
        },
        {
          "data": {
            "image/png": "[encoded data removed]",
            "text/plain": [
              "<Figure size 1000x600 with 1 Axes>"
            ]
          },
          "metadata": {},
          "output_type": "display_data"
        }
      ],
      "source": [
        "import seaborn as sns\n",
        "import pandas as pd\n",
        "import matplotlib.pyplot as plt\n",
        "# Create DataFrame for plotting\n",
        "# Extract model names and their corresponding accuracy scores from the `model_reports` dictionary.\n",
        "\n",
        "df_plot = pd.DataFrame({\n",
        "    'Model': list(model_reports.keys()),\n",
        "    'Accuracy': [model_reports[m]['test_accuracy'] for m in model_reports]\n",
        "})\n",
        "\n",
        "# Sort the DataFrame by Accuracy values in ascending order for better visual comparison\n",
        "df_plot = df_plot.sort_values(by='Accuracy', ascending=True)\n",
        "\n",
        "# # Set seaborn plot style for a cleaner look\n",
        "sns.set_style(\"whitegrid\")\n",
        "\n",
        "# Create a color palette with a gradient based on the number of models\n",
        "palette = sns.color_palette(\"coolwarm\", len(df_plot))\n",
        "\n",
        "# Create a figure for the plot and set its size\n",
        "plt.figure(figsize=(10,6))\n",
        "\n",
        "# Draw a horizontal bar plot with accuracy on the x-axis and model names on the y-axis\n",
        "sns.barplot(x='Accuracy', y='Model', data=df_plot, palette=palette, edgecolor='black')\n",
        "\n",
        "# Add a title and axis labels for better understanding\n",
        "plt.title(\"Test Accuracy Comparison of All Models\", fontsize=16, fontweight='bold')\n",
        "plt.xlabel(\"Accuracy\", fontsize=12)\n",
        "plt.ylabel(\"Model\", fontsize=12)\n",
        "\n",
        "# Display the plot\n",
        "plt.show()"
      ]
    },
    {
      "cell_type": "code",
      "execution_count": 16,
      "metadata": {
        "colab": {
          "base_uri": "https://localhost:8080/",
          "height": 778
        },
        "id": "e3yGvdmlbO6r",
        "outputId": "82fc70fd-2da8-4982-df01-4ceadb7fe897"
      },
      "outputs": [
        {
          "name": "stdout",
          "output_type": "stream",
          "text": [
            "                 Model  Test Accuracy\n",
            "4                  SVM         0.8956\n",
            "0  Logistic Regression         0.8904\n",
            "1          Naive Bayes         0.8784\n",
            "3        Random Forest         0.8484\n",
            "5    Gradient Boosting         0.8062\n",
            "2        Decision Tree         0.7128\n"
          ]
        },
        {
          "name": "stderr",
          "output_type": "stream",
          "text": [
            "/tmp/ipython-input-1061508157.py:25: FutureWarning: \n",
            "\n",
            "Passing `palette` without assigning `hue` is deprecated and will be removed in v0.14.0. Assign the `y` variable to `hue` and set `legend=False` for the same effect.\n",
            "\n",
            "  sns.barplot(x='Test Accuracy', y='Model', data=df_acc, palette=\"viridis\")\n"
          ]
        },
        {
          "data": {
            "image/png": "[encoded data removed]",
            "text/plain": [
              "<Figure size 1000x600 with 1 Axes>"
            ]
          },
          "metadata": {},
          "output_type": "display_data"
        }
      ],
      "source": [
        "import pandas as pd\n",
        "import matplotlib.pyplot as plt\n",
        "import seaborn as sns\n",
        "from sklearn.metrics import accuracy_score\n",
        "\n",
        "# Collect test accuracies for all models\n",
        "test_accuracies = {}\n",
        "for model_name, report in model_reports.items():\n",
        "    y_pred = report['test_predictions']\n",
        "    acc = accuracy_score(y_test, y_pred)\n",
        "    test_accuracies[model_name] = acc\n",
        "\n",
        "# Create a DataFrame for plotting\n",
        "df_acc = pd.DataFrame({\n",
        "    'Model': list(test_accuracies.keys()),\n",
        "    'Test Accuracy': list(test_accuracies.values())\n",
        "}).sort_values(by='Test Accuracy', ascending=False)\n",
        "\n",
        "# Display table\n",
        "print(df_acc)\n",
        "\n",
        "# Eye-catching bar chart\n",
        "plt.figure(figsize=(10,6))\n",
        "sns.set_style(\"whitegrid\")\n",
        "sns.barplot(x='Test Accuracy', y='Model', data=df_acc, palette=\"viridis\")\n",
        "plt.title(\"Test Accuracy Comparison of All Models\", fontsize=16)\n",
        "plt.xlabel(\"Accuracy\", fontsize=12)\n",
        "plt.ylabel(\"Model\", fontsize=12)\n",
        "plt.xlim(0, 1)\n",
        "plt.show()"
      ]
    },
    {
      "cell_type": "markdown",
      "metadata": {
        "id": "1BcdTpcocAZP"
      },
      "source": [
        "End comparison - this is for comparison between all models,just see the best train and test result and algorithom result ( if do not want to see comparison then ignore it )"
      ]
    },
    {
      "cell_type": "code",
      "execution_count": 17,
      "metadata": {
        "colab": {
          "base_uri": "https://localhost:8080/"
        },
        "id": "guUgdMrxjKNH",
        "outputId": "c54cf740-6fd1-4933-e0ea-bed6d343b530"
      },
      "outputs": [
        {
          "name": "stdout",
          "output_type": "stream",
          "text": [
            "Train Accuracy for Logistic Regression: 0.9427\n"
          ]
        }
      ],
      "source": [
        "# evaluate the model on the train set ( need more time for this )\n",
        "\n",
        "from sklearn.metrics import accuracy_score\n",
        "\n",
        "# Chosen model\n",
        "chosen_model = 'Logistic Regression'\n",
        "\n",
        "# get the trained model\n",
        "model = classification_models[chosen_model]\n",
        "\n",
        "# Predict on train set\n",
        "y_pred_train = model.predict(X_train_tfidf)\n",
        "\n",
        "# Calculate train accuracy\n",
        "train_accuracy = accuracy_score(y_train, y_pred_train)\n",
        "print(f\"Train Accuracy for {chosen_model}: {train_accuracy:.4f}\")\n"
      ]
    },
    {
      "cell_type": "code",
      "execution_count": 19,
      "metadata": {
        "colab": {
          "base_uri": "https://localhost:8080/"
        },
        "id": "OMxL4NubbOz8",
        "outputId": "a915b2ed-731e-45a4-e8cb-9e280c637d6e"
      },
      "outputs": [
        {
          "name": "stdout",
          "output_type": "stream",
          "text": [
            "Test Accuracy for Logistic Regression: 0.8904\n"
          ]
        }
      ],
      "source": [
        "# evaluate the model on the test set ( need more time for this ).\n",
        "from sklearn.metrics import accuracy_score\n",
        "\n",
        "# Chosen model\n",
        "chosen_model = 'Logistic Regression'\n",
        "y_pred = model_reports[chosen_model]['test_predictions']\n",
        "\n",
        "# Calculate test accuracy\n",
        "test_accuracy = accuracy_score(y_test, y_pred)\n",
        "print(f\"Test Accuracy for {chosen_model}: {test_accuracy:.4f}\")"
      ]
    },
    {
      "cell_type": "markdown",
      "metadata": {
        "id": "rNZhfrJeQPzM"
      },
      "source": [
        "#\" Logistic Regression = 0.8956(test)\" gave the best result for this task . so we will continue with \"Logistic Regression\"."
      ]
    },
    {
      "cell_type": "markdown",
      "metadata": {
        "id": "dFvIfneejYPc"
      },
      "source": [
        "End - Train and evaluate the model on the test set"
      ]
    },
    {
      "cell_type": "markdown",
      "metadata": {
        "id": "zcf8MnmDclmR"
      },
      "source": [
        "# End : Step 2 – Model Training"
      ]
    },
    {
      "cell_type": "markdown",
      "metadata": {
        "id": "PTVkJBqQlI2u"
      },
      "source": [
        "Step 3 – Evaluation<p>\n",
        "\n",
        "Report:<p>\n",
        "Accuracy<p>\n",
        "Precision<p>\n",
        "Recall<p>\n",
        "F1-score<p>\n",
        "Provide confusion matrix visualization.<p>\n",
        "Save the trained model as a .pkl or .h5 file.<p>\n",
        "Optimize model parameters for better accuracy<p>"
      ]
    },
    {
      "cell_type": "markdown",
      "metadata": {
        "id": "CGnHZZvycsDj"
      },
      "source": [
        "# Start - Step 3 – Evaluation<p>\n",
        "Report:"
      ]
    },
    {
      "cell_type": "code",
      "execution_count": 21,
      "metadata": {
        "colab": {
          "base_uri": "https://localhost:8080/"
        },
        "id": "uI2e_idRm8ND",
        "outputId": "49f66d11-4364-454f-d366-151c8cb64c36"
      },
      "outputs": [
        {
          "name": "stdout",
          "output_type": "stream",
          "text": [
            "Train Accuracy for Logistic Regression: 0.9427\n",
            "\n",
            "Train Classification Report:\n",
            "              precision    recall  f1-score   support\n",
            "\n",
            "           0       0.95      0.94      0.94      9971\n",
            "           1       0.94      0.95      0.94     10029\n",
            "\n",
            "    accuracy                           0.94     20000\n",
            "   macro avg       0.94      0.94      0.94     20000\n",
            "weighted avg       0.94      0.94      0.94     20000\n",
            "\n",
            "Test Accuracy for Logistic Regression: 0.8904\n",
            "\n",
            "Test Classification Report:\n",
            "              precision    recall  f1-score   support\n",
            "\n",
            "           0       0.91      0.87      0.89      2529\n",
            "           1       0.87      0.91      0.89      2471\n",
            "\n",
            "    accuracy                           0.89      5000\n",
            "   macro avg       0.89      0.89      0.89      5000\n",
            "weighted avg       0.89      0.89      0.89      5000\n",
            "\n"
          ]
        }
      ],
      "source": [
        "import numpy as np\n",
        "import matplotlib.pyplot as plt\n",
        "import seaborn as sns\n",
        "from sklearn.metrics import accuracy_score, classification_report, confusion_matrix\n",
        "\n",
        "# Step 1: Choose the model\n",
        "chosen_model = 'Logistic Regression'\n",
        "model = classification_models[chosen_model]\n",
        "\n",
        "# Step 2: Predictions\n",
        "y_pred_train = model.predict(X_train_tfidf)\n",
        "y_pred_test  = model.predict(X_test_tfidf)\n",
        "\n",
        "# Step 3: Evaluation Metrics\n",
        "\n",
        "#  Train Metrics\n",
        "train_accuracy = accuracy_score(y_train, y_pred_train)\n",
        "train_report = classification_report(y_train, y_pred_train)\n",
        "print(f\"Train Accuracy for {chosen_model}: {train_accuracy:.4f}\\n\")\n",
        "print(\"Train Classification Report:\")\n",
        "print(train_report)\n",
        "\n",
        "# Test Metrics\n",
        "test_accuracy = accuracy_score(y_test, y_pred_test)\n",
        "test_report = classification_report(y_test, y_pred_test)\n",
        "print(f\"Test Accuracy for {chosen_model}: {test_accuracy:.4f}\\n\")\n",
        "print(\"Test Classification Report:\")\n",
        "print(test_report)\n",
        "\n"
      ]
    },
    {
      "cell_type": "markdown",
      "metadata": {
        "id": "LMKjhCxuYH92"
      },
      "source": [
        "confusion_matrix for train and test"
      ]
    },
    {
      "cell_type": "code",
      "execution_count": 23,
      "metadata": {
        "colab": {
          "base_uri": "https://localhost:8080/",
          "height": 507
        },
        "id": "cEhyXT50TJ-P",
        "outputId": "7d886185-d7bf-4732-ccdd-31304a18d6f1"
      },
      "outputs": [
        {
          "data": {
            "image/png": "[encoded data removed]",
            "text/plain": [
              "<Figure size 1200x500 with 4 Axes>"
            ]
          },
          "metadata": {},
          "output_type": "display_data"
        }
      ],
      "source": [
        "import numpy as np\n",
        "import matplotlib.pyplot as plt\n",
        "import seaborn as sns\n",
        "from sklearn.metrics import confusion_matrix\n",
        "\n",
        "# Choose the model\n",
        "chosen_model = 'Logistic Regression'\n",
        "\n",
        "# Get the trained model from your classification_models dictionary\n",
        "model = classification_models[chosen_model]\n",
        "\n",
        "# Predictions\n",
        "y_pred_train = model.predict(X_train_tfidf)\n",
        "y_pred_test  = model_reports[chosen_model]['test_predictions']\n",
        "\n",
        "# Confusion matrices\n",
        "cm_train = confusion_matrix(y_train, y_pred_train)\n",
        "cm_test  = confusion_matrix(y_test, y_pred_test)\n",
        "\n",
        "# Convert to percentages for visualization\n",
        "cm_train_percent = cm_train.astype('float') / cm_train.sum() * 100\n",
        "cm_test_percent  = cm_test.astype('float') / cm_test.sum() * 100\n",
        "\n",
        "# Plot side-by-side confusion matrices\n",
        "fig, axes = plt.subplots(1, 2, figsize=(12,5))\n",
        "\n",
        "# Train Confusion Matrix\n",
        "sns.heatmap(cm_train_percent, annot=cm_train, fmt='.2f', cmap='YlGnBu',\n",
        "            xticklabels=['Negative','Positive'], yticklabels=['Negative','Positive'],\n",
        "            cbar_kws={'label': 'Percentage (%)'}, ax=axes[0])\n",
        "axes[0].set_xlabel('Predicted Labels', fontsize=12)\n",
        "axes[0].set_ylabel('Actual Labels', fontsize=12)\n",
        "axes[0].set_title(f'Train Confusion Matrix - {chosen_model}', fontsize=14, fontweight='bold')\n",
        "\n",
        "# Test Confusion Matrix\n",
        "sns.heatmap(cm_test_percent, annot=cm_test, fmt='.2f', cmap='YlGnBu',\n",
        "            xticklabels=['Negative','Positive'], yticklabels=['Negative','Positive'],\n",
        "            cbar_kws={'label': 'Percentage (%)'}, ax=axes[1])\n",
        "axes[1].set_xlabel('Predicted Labels', fontsize=12)\n",
        "axes[1].set_ylabel('Actual Labels', fontsize=12)\n",
        "axes[1].set_title(f'Test Confusion Matrix - {chosen_model}', fontsize=14, fontweight='bold')\n",
        "\n",
        "plt.tight_layout()\n",
        "plt.show()"
      ]
    },
    {
      "cell_type": "code",
      "execution_count": 25,
      "metadata": {
        "colab": {
          "base_uri": "https://localhost:8080/",
          "height": 1000
        },
        "id": "ZcTO_d4rT-zq",
        "outputId": "1e72998d-86f9-47c8-b651-0cc778311752"
      },
      "outputs": [
        {
          "name": "stdout",
          "output_type": "stream",
          "text": [
            "Train Accuracy: 0.9956\n",
            "Train Classification Report:\n",
            "              precision    recall  f1-score   support\n",
            "\n",
            "           0       0.99      1.00      1.00      9971\n",
            "           1       1.00      0.99      1.00     10029\n",
            "\n",
            "    accuracy                           1.00     20000\n",
            "   macro avg       1.00      1.00      1.00     20000\n",
            "weighted avg       1.00      1.00      1.00     20000\n",
            "\n",
            "Test Accuracy: 0.8956\n",
            "Test Classification Report:\n",
            "              precision    recall  f1-score   support\n",
            "\n",
            "           0       0.91      0.88      0.89      2529\n",
            "           1       0.88      0.91      0.90      2471\n",
            "\n",
            "    accuracy                           0.90      5000\n",
            "   macro avg       0.90      0.90      0.90      5000\n",
            "weighted avg       0.90      0.90      0.90      5000\n",
            "\n"
          ]
        },
        {
          "data": {
            "image/png": "[encoded data removed]",
            "text/plain": [
              "<Figure size 1400x600 with 4 Axes>"
            ]
          },
          "metadata": {},
          "output_type": "display_data"
        },
        {
          "name": "stdout",
          "output_type": "stream",
          "text": [
            "Trained SVM model saved as SVM_model.pkl\n"
          ]
        }
      ],
      "source": [
        "import numpy as np\n",
        "import matplotlib.pyplot as plt\n",
        "import seaborn as sns\n",
        "import joblib\n",
        "from sklearn.metrics import accuracy_score, classification_report, confusion_matrix\n",
        "\n",
        "#  Choose the model\n",
        "chosen_model = 'SVM' # Updated to SVM based on earlier results\n",
        "\n",
        "# Get trained model\n",
        "model = classification_models[chosen_model]\n",
        "\n",
        "# Predictions\n",
        "y_pred_train = model.predict(X_train_tfidf)\n",
        "y_pred_test  = model_reports[chosen_model]['test_predictions']\n",
        "\n",
        "\n",
        "# Train metrics\n",
        "accuracy_train = accuracy_score(y_train, y_pred_train)\n",
        "print(f\"Train Accuracy: {accuracy_train:.4f}\")\n",
        "print(\"Train Classification Report:\")\n",
        "print(classification_report(y_train, y_pred_train))\n",
        "\n",
        "# Test metrics\n",
        "accuracy_test = accuracy_score(y_test, y_pred_test)\n",
        "print(f\"Test Accuracy: {accuracy_test:.4f}\")\n",
        "print(\"Test Classification Report:\")\n",
        "print(classification_report(y_test, y_pred_test))\n",
        "\n",
        "# Confusion Matrix Visualization ===\n",
        "cm_train = confusion_matrix(y_train, y_pred_train)\n",
        "cm_test  = confusion_matrix(y_test, y_pred_test)\n",
        "\n",
        "cm_train_percent = cm_train.astype('float') / cm_train.sum(axis=1)[:, np.newaxis]\n",
        "cm_test_percent  = cm_test.astype('float') / cm_test.sum(axis=1)[:, np.newaxis]\n",
        "\n",
        "fig, axes = plt.subplots(1, 2, figsize=(14,6))\n",
        "\n",
        "# Train Confusion Matrix\n",
        "sns.heatmap(cm_train_percent, annot=cm_train, fmt='d', cmap='YlGnBu',\n",
        "            xticklabels=['Negative','Positive'], yticklabels=['Negative','Positive'],\n",
        "            cbar_kws={'label': 'Percentage (%)'}, ax=axes[0])\n",
        "axes[0].set_xlabel('Predicted Labels', fontsize=12)\n",
        "axes[0].set_ylabel('Actual Labels', fontsize=12)\n",
        "axes[0].set_title(f'Train Confusion Matrix - {chosen_model}', fontsize=14, fontweight='bold')\n",
        "\n",
        "# Test Confusion Matrix\n",
        "sns.heatmap(cm_test_percent, annot=cm_test, fmt='d', cmap='YlGnBu',\n",
        "            xticklabels=['Negative','Positive'], yticklabels=['Negative','Positive'],\n",
        "            cbar_kws={'label': 'Percentage (%)'}, ax=axes[1])\n",
        "axes[1].set_xlabel('Predicted Labels', fontsize=12)\n",
        "axes[1].set_ylabel('Actual Labels', fontsize=12)\n",
        "axes[1].set_title(f'Test Confusion Matrix - {chosen_model}', fontsize=14, fontweight='bold')\n",
        "\n",
        "plt.tight_layout()\n",
        "plt.show()\n",
        "\n",
        "#  Save the trained model ===\n",
        "joblib.dump(model, f\"{chosen_model}_model.pkl\")\n",
        "print(f\"Trained {chosen_model} model saved as {chosen_model}_model.pkl\")\n",
        "\n",
        "#  Hyperparameter Tuning for Better Accuracy ===\n",
        "# You can use GridSearchCV to optimize parameters, e.g., C and kernel for SVM\n",
        "# Example:\n",
        "# from sklearn.model_selection import GridSearchCV\n",
        "# param_grid = {'C':[0.1,1,10], 'kernel':['linear','rbf']}\n",
        "# grid = GridSearchCV(SVC(), param_grid, cv=5, scoring='accuracy')\n",
        "# grid.fit(X_train_tfidf, y_train)\n",
        "# print(grid.best_params_, grid.best_score_)"
      ]
    },
    {
      "cell_type": "code",
      "execution_count": 26,
      "metadata": {
        "id": "Uxg2PTwkZTv9"
      },
      "outputs": [],
      "source": [
        "import joblib\n",
        "joblib.dump(model, f\"{chosen_model}_model.pkl\")\n",
        "print(f\"Trained {chosen_model} model saved as {chosen_model}_model.pkl\")\n"
      ]
    },
    {
      "cell_type": "code",
      "execution_count": 30,
      "metadata": {
        "colab": {
          "base_uri": "https://localhost:8080/"
        },
        "id": "KKA3B73d80Mu",
        "outputId": "395472da-66d0-42ca-d88b-cd7729a27b54"
      },
      "outputs": [
        {
          "name": "stdout",
          "output_type": "stream",
          "text": [
            "Enter a sentence to predict sentiment (type 'exit' or 'n' to quit):\n",
            "> I did not enjoy the film Eraser whatsoever. It's awful acting, boring storyline and average special effects made this an annoying arnie film, as it had a mountain of potential. With other action films of the time Eraser fell very short!!!\n",
            "Sentiment: Negative\n",
            "\n",
            "> I think this film version of NORTHANGER ABBEY is actually quite good. It certainly is amusing. Well, it's not a masterpiece as PRIDE AND PREJUDICE ('95) but there's very good stuff in it.. especially the City of Bath setting!!! ..The Royal Crescent, the Roman Baths, the fascinating Georgian atmosphere.. That is excellent. If you are a Bath fan like myself, you'll love watching this film! The performances may sound a bit too \"melodramatic\" but I've got the impression that this film, like the novel itself, is deliberately making fun of the popular tales of romance and terror and of the society of the period. The only drawback is probably the female lead as I personally have another idea of Catherine Morland's physical appearance. The music is also a bit \"unusual\".. but I strangely find it acceptable despite it's got nothing to do with the historical period portrayed. I'm wondering what would dear old Jane think...:)\n",
            "Sentiment: Positive\n",
            "\n",
            "> n\n",
            "Exiting...\n"
          ]
        }
      ],
      "source": [
        "import tensorflow as tf\n",
        "from sklearn.feature_extraction.text import TfidfVectorizer\n",
        "import joblib  # Import joblib to load the saved model\n",
        "\n",
        "# Load the saved model\n",
        "# Make sure the model file name matches the one saved in the previous step\n",
        "# For example, if you saved the SVM model as 'SVM_model.pkl'\n",
        "# model = joblib.load('SVM_model.pkl')\n",
        "\n",
        "# Initialize the vectorizer with the same parameters used for training\n",
        "vectorizer = TfidfVectorizer(max_features=60000, ngram_range=(1,2), stop_words='english')\n",
        "\n",
        "# Fit the vectorizer on the training data (X_train) to build the vocabulary\n",
        "# This is necessary for the vectorizer to properly transform new text\n",
        "vectorizer.fit(X_train)  # Make sure X_train is defined and preprocessed\n",
        "\n",
        "def predict_sentiment(sentence, model, vectorizer):\n",
        "    # Clean the input sentence using the same cleaning function as used for training data\n",
        "    cleaned_sentence = clean_text(sentence)  # Make sure clean_text function is defined\n",
        "\n",
        "    # Transform the cleaned sentence using the fitted vectorizer\n",
        "    sentence_tfidf = vectorizer.transform([cleaned_sentence])\n",
        "\n",
        "    # Predict the sentiment\n",
        "    prediction = model.predict(sentence_tfidf)\n",
        "\n",
        "    # Map prediction to sentiment label\n",
        "    sentiment = \"Positive\" if prediction[0] == 1 else \"Negative\"  # Assuming 1=Positive, 0=Negative\n",
        "\n",
        "    # Return sentiment and None for confidence (SVM by default does not provide predict_proba)\n",
        "    return sentiment, None\n",
        "\n",
        "# Interactive loop for user input\n",
        "print(\"Enter a sentence to predict sentiment (type 'exit' or 'n' to quit):\")\n",
        "while True:\n",
        "    user_input = input(\"> \").strip()  # Remove leading/trailing whitespace\n",
        "\n",
        "    # Exit conditions\n",
        "    if user_input.lower() in [\"exit\", \"n\"]:\n",
        "        print(\"Exiting...\")\n",
        "        break\n",
        "\n",
        "    # Check if input is empty\n",
        "    if user_input == \"\":\n",
        "        print(\"No input detected. Please type a sentence or 'n'/'exit' to quit.\\n\")\n",
        "        continue\n",
        "\n",
        "    # Predict sentiment\n",
        "    sentiment, confidence = predict_sentiment(user_input, model, vectorizer)\n",
        "\n",
        "    if confidence is not None:\n",
        "        print(f\"Sentiment: {sentiment}, Confidence: {confidence:.4f}\\n\")\n",
        "    else:\n",
        "        print(f\"Sentiment: {sentiment}\\n\")"
      ]
    },
    {
      "cell_type": "code",
      "execution_count": null,
      "metadata": {},
      "outputs": [],
      "source": [
        "# Demo: Predict sentiment for user input\n",
        "import pickle\n",
        "import pandas as pd\n",
        "from sklearn.feature_extraction.text import TfidfVectorizer\n",
        "import re\n",
        "import nltk\n",
        "from nltk.corpus import stopwords\n",
        "nltk.download('stopwords')\n",
        "stop_words = set(stopwords.words('english'))\n",
        "def clean_text(text):\n",
        "    text = re.sub(r'<.*?>', '', text)\n",
        "    text = re.sub(r'[^a-zA-Z ]', '', text)\n",
        "    text = text.lower()\n",
        "    text = ' '.join([word for word in text.split() if word not in stop_words])\n",
        "    return text\n",
        "\n",
        "# Load model and vectorizer\n",
        "with open('SVM_model.pkl', 'rb') as f:\n",
        "    model = pickle.load(f)\n",
        "\n",
        "# You may need to load the vectorizer if saved separately. Otherwise, fit on train data as in notebook.\n",
        "# For demo, let's fit a new vectorizer on cleaned data (replace with your actual vectorizer for best results)\n",
        "df = pd.read_csv('used as train_data (1)_Cleaned.csv')\n",
        "vectorizer = TfidfVectorizer()\n",
        "X = vectorizer.fit_transform(df['text'].astype(str))\n",
        "\n",
        "user_input = input('Enter a sentence for sentiment prediction: ')\n",
        "cleaned = clean_text(user_input)\n",
        "features = vectorizer.transform([cleaned])\n",
        "prediction = model.predict(features)\n",
        "print('Predicted Sentiment:', prediction[0])"
      ]
    }
  ],
  "metadata": {
    "colab": {
      "provenance": []
    },
    "kernelspec": {
      "display_name": "Python 3",
      "name": "python3"
    },
    "language_info": {
      "name": "python"
    }
  },
  "nbformat": 4,
  "nbformat_minor": 0
}
